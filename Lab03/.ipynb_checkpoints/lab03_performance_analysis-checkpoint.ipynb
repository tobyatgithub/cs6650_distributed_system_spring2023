{
 "cells": [
  {
   "cell_type": "code",
   "execution_count": 1,
   "id": "987a228a",
   "metadata": {},
   "outputs": [],
   "source": [
    "# !pip install pandas"
   ]
  },
  {
   "cell_type": "code",
   "execution_count": 2,
   "id": "5fc2c1d9",
   "metadata": {},
   "outputs": [],
   "source": [
    "import pandas as pd\n",
    "import matplotlib.pyplot as plt"
   ]
  },
  {
   "cell_type": "code",
   "execution_count": 3,
   "id": "014cecca",
   "metadata": {},
   "outputs": [],
   "source": [
    "fileName = \"./lab03_performance_(200_500000).csv\"\n",
    "# no index column, first row as header, ignore last two rows (meta), only import first 5 cols.\n",
    "df = pd.read_csv(fileName, index_col=False, header=0, skipfooter=2, engine='python', usecols=range(0, 4))\n",
    "df.columns = ['start time', 'request type', 'latency', 'response code']"
   ]
  },
  {
   "cell_type": "code",
   "execution_count": 4,
   "id": "19ada70b",
   "metadata": {},
   "outputs": [
    {
     "data": {
      "text/html": [
       "<div>\n",
       "<style scoped>\n",
       "    .dataframe tbody tr th:only-of-type {\n",
       "        vertical-align: middle;\n",
       "    }\n",
       "\n",
       "    .dataframe tbody tr th {\n",
       "        vertical-align: top;\n",
       "    }\n",
       "\n",
       "    .dataframe thead th {\n",
       "        text-align: right;\n",
       "    }\n",
       "</style>\n",
       "<table border=\"1\" class=\"dataframe\">\n",
       "  <thead>\n",
       "    <tr style=\"text-align: right;\">\n",
       "      <th></th>\n",
       "      <th>start time</th>\n",
       "      <th>request type</th>\n",
       "      <th>latency</th>\n",
       "      <th>response code</th>\n",
       "    </tr>\n",
       "  </thead>\n",
       "  <tbody>\n",
       "    <tr>\n",
       "      <th>434430</th>\n",
       "      <td>2023-02-04 17:22:47</td>\n",
       "      <td>POST</td>\n",
       "      <td>30</td>\n",
       "      <td>200</td>\n",
       "    </tr>\n",
       "    <tr>\n",
       "      <th>396463</th>\n",
       "      <td>2023-02-04 17:22:39</td>\n",
       "      <td>POST</td>\n",
       "      <td>42</td>\n",
       "      <td>200</td>\n",
       "    </tr>\n",
       "    <tr>\n",
       "      <th>29908</th>\n",
       "      <td>2023-02-04 17:21:23</td>\n",
       "      <td>POST</td>\n",
       "      <td>40</td>\n",
       "      <td>200</td>\n",
       "    </tr>\n",
       "    <tr>\n",
       "      <th>28684</th>\n",
       "      <td>2023-02-04 17:21:23</td>\n",
       "      <td>POST</td>\n",
       "      <td>32</td>\n",
       "      <td>200</td>\n",
       "    </tr>\n",
       "    <tr>\n",
       "      <th>485148</th>\n",
       "      <td>2023-02-04 17:22:57</td>\n",
       "      <td>POST</td>\n",
       "      <td>49</td>\n",
       "      <td>200</td>\n",
       "    </tr>\n",
       "  </tbody>\n",
       "</table>\n",
       "</div>"
      ],
      "text/plain": [
       "                 start time request type  latency  response code\n",
       "434430  2023-02-04 17:22:47         POST       30            200\n",
       "396463  2023-02-04 17:22:39         POST       42            200\n",
       "29908   2023-02-04 17:21:23         POST       40            200\n",
       "28684   2023-02-04 17:21:23         POST       32            200\n",
       "485148  2023-02-04 17:22:57         POST       49            200"
      ]
     },
     "execution_count": 4,
     "metadata": {},
     "output_type": "execute_result"
    }
   ],
   "source": [
    "df.sample(7)"
   ]
  },
  {
   "cell_type": "markdown",
   "id": "75056f75",
   "metadata": {},
   "source": [
    "#### Required Metrics:\n",
    "1. mean response time (millisecs)\n",
    "2. median response time (millisecs)\n",
    "3. throughput = total number of requests/wall time (requests/second)\n",
    "4. p99 (99th percentile) response time. Here’s a nice article Links to an external site. about why percentiles are important and why calculating them is not always easy. (millisecs)\n",
    "5. min and max response time (millisecs)"
   ]
  },
  {
   "cell_type": "code",
   "execution_count": 5,
   "id": "f6ef2875",
   "metadata": {},
   "outputs": [
    {
     "name": "stdout",
     "output_type": "stream",
     "text": [
      "The average response time:  41.56 ms\n",
      "The median response time:  39.0 ms\n"
     ]
    }
   ],
   "source": [
    "# 1. mean response time\n",
    "print(\"1. The average response time: \", round(df['latency'].mean(),2), \"ms\")\n",
    "# 2. median response time\n",
    "print(\"2. The median response time: \", round(df['latency'].median(),2), \"ms\")"
   ]
  },
  {
   "cell_type": "code",
   "execution_count": 13,
   "id": "cfc5f322",
   "metadata": {},
   "outputs": [],
   "source": [
    "meta_df = pd.read_csv(fileName, index_col=False, engine='python', usecols=range(0, 4))\n",
    "meta_df = meta_df.tail(2)\n",
    "meta_df.columns = meta_df.iloc[0].tolist()\n",
    "meta_df = meta_df.tail(1)\n",
    "meta_df = meta_df.reset_index(drop=True)\n",
    "# meta_df"
   ]
  },
  {
   "cell_type": "code",
   "execution_count": 53,
   "id": "53f0313a",
   "metadata": {},
   "outputs": [
    {
     "name": "stdout",
     "output_type": "stream",
     "text": [
      "3. The throughput:  4785.28 requests/second\n"
     ]
    }
   ],
   "source": [
    "# 3. throughput\n",
    "throughput = round(1000 * int(meta_df[\" total request\"][0].strip()) / int(meta_df[\"Total time spend\"][0][:-2]),2)\n",
    "print(\"3. The throughput: \", throughput, \"requests/second\")"
   ]
  },
  {
   "cell_type": "code",
   "execution_count": 42,
   "id": "47658833",
   "metadata": {},
   "outputs": [
    {
     "name": "stdout",
     "output_type": "stream",
     "text": [
      "4. The p99 response time:  83.0 ms\n"
     ]
    }
   ],
   "source": [
    "# 4. p99\n",
    "print(\"4. The p99 response time: \", df[\"latency\"].quantile(0.99), \"ms\")"
   ]
  },
  {
   "cell_type": "code",
   "execution_count": 43,
   "id": "a52755a7",
   "metadata": {},
   "outputs": [
    {
     "name": "stdout",
     "output_type": "stream",
     "text": [
      "5. The min response time:  22 ms\n",
      "and the max response time:  555 ms\n"
     ]
    }
   ],
   "source": [
    "# 5. the min and max response time\n",
    "print(\"5. The min response time: \", df[\"latency\"].min(), \"ms\")\n",
    "print(\"and the max response time: \", df[\"latency\"].max(), \"ms\")"
   ]
  },
  {
   "cell_type": "code",
   "execution_count": null,
   "id": "2d3d0993",
   "metadata": {},
   "outputs": [],
   "source": []
  },
  {
   "cell_type": "markdown",
   "id": "d450af1e",
   "metadata": {},
   "source": [
    "### Task 4: Plot Performance\n",
    "You need to plot a graph that shows the average throughput of requests for the period of your test. To do this, create a chart that has:\n",
    "\n",
    "x-axis values: unit is seconds, from 0 to test wall time, with intervals of one second\n",
    "\n",
    "y-axis values: unit is throughput/second, showing the number of requests completed in each second of the test\n",
    "\n",
    "You can create the chart programmatically of just dump the values into a spreadsheet and go for your life!"
   ]
  },
  {
   "cell_type": "code",
   "execution_count": 44,
   "id": "694f9974",
   "metadata": {},
   "outputs": [
    {
     "data": {
      "text/plain": [
       "Index(['start time', 'request type', 'latency', 'response code'], dtype='object')"
      ]
     },
     "execution_count": 44,
     "metadata": {},
     "output_type": "execute_result"
    }
   ],
   "source": [
    "df.columns"
   ]
  },
  {
   "cell_type": "code",
   "execution_count": 64,
   "id": "413d4b1e",
   "metadata": {
    "scrolled": true
   },
   "outputs": [
    {
     "data": {
      "text/html": [
       "<div>\n",
       "<style scoped>\n",
       "    .dataframe tbody tr th:only-of-type {\n",
       "        vertical-align: middle;\n",
       "    }\n",
       "\n",
       "    .dataframe tbody tr th {\n",
       "        vertical-align: top;\n",
       "    }\n",
       "\n",
       "    .dataframe thead th {\n",
       "        text-align: right;\n",
       "    }\n",
       "</style>\n",
       "<table border=\"1\" class=\"dataframe\">\n",
       "  <thead>\n",
       "    <tr style=\"text-align: right;\">\n",
       "      <th></th>\n",
       "      <th>request type</th>\n",
       "      <th>latency</th>\n",
       "      <th>response code</th>\n",
       "    </tr>\n",
       "    <tr>\n",
       "      <th>start time</th>\n",
       "      <th></th>\n",
       "      <th></th>\n",
       "      <th></th>\n",
       "    </tr>\n",
       "  </thead>\n",
       "  <tbody>\n",
       "    <tr>\n",
       "      <th>2023-02-04 17:21:16</th>\n",
       "      <td>505</td>\n",
       "      <td>505</td>\n",
       "      <td>505</td>\n",
       "    </tr>\n",
       "    <tr>\n",
       "      <th>2023-02-04 17:21:17</th>\n",
       "      <td>2175</td>\n",
       "      <td>2175</td>\n",
       "      <td>2175</td>\n",
       "    </tr>\n",
       "    <tr>\n",
       "      <th>2023-02-04 17:21:18</th>\n",
       "      <td>4208</td>\n",
       "      <td>4208</td>\n",
       "      <td>4208</td>\n",
       "    </tr>\n",
       "    <tr>\n",
       "      <th>2023-02-04 17:21:19</th>\n",
       "      <td>4584</td>\n",
       "      <td>4584</td>\n",
       "      <td>4584</td>\n",
       "    </tr>\n",
       "    <tr>\n",
       "      <th>2023-02-04 17:21:20</th>\n",
       "      <td>4688</td>\n",
       "      <td>4688</td>\n",
       "      <td>4688</td>\n",
       "    </tr>\n",
       "    <tr>\n",
       "      <th>...</th>\n",
       "      <td>...</td>\n",
       "      <td>...</td>\n",
       "      <td>...</td>\n",
       "    </tr>\n",
       "    <tr>\n",
       "      <th>2023-02-04 17:22:56</th>\n",
       "      <td>5003</td>\n",
       "      <td>5003</td>\n",
       "      <td>5003</td>\n",
       "    </tr>\n",
       "    <tr>\n",
       "      <th>2023-02-04 17:22:57</th>\n",
       "      <td>4749</td>\n",
       "      <td>4749</td>\n",
       "      <td>4749</td>\n",
       "    </tr>\n",
       "    <tr>\n",
       "      <th>2023-02-04 17:22:58</th>\n",
       "      <td>5267</td>\n",
       "      <td>5267</td>\n",
       "      <td>5267</td>\n",
       "    </tr>\n",
       "    <tr>\n",
       "      <th>2023-02-04 17:22:59</th>\n",
       "      <td>5319</td>\n",
       "      <td>5319</td>\n",
       "      <td>5319</td>\n",
       "    </tr>\n",
       "    <tr>\n",
       "      <th>2023-02-04 17:23:00</th>\n",
       "      <td>3485</td>\n",
       "      <td>3485</td>\n",
       "      <td>3485</td>\n",
       "    </tr>\n",
       "  </tbody>\n",
       "</table>\n",
       "<p>105 rows × 3 columns</p>\n",
       "</div>"
      ],
      "text/plain": [
       "                     request type  latency  response code\n",
       "start time                                               \n",
       "2023-02-04 17:21:16           505      505            505\n",
       "2023-02-04 17:21:17          2175     2175           2175\n",
       "2023-02-04 17:21:18          4208     4208           4208\n",
       "2023-02-04 17:21:19          4584     4584           4584\n",
       "2023-02-04 17:21:20          4688     4688           4688\n",
       "...                           ...      ...            ...\n",
       "2023-02-04 17:22:56          5003     5003           5003\n",
       "2023-02-04 17:22:57          4749     4749           4749\n",
       "2023-02-04 17:22:58          5267     5267           5267\n",
       "2023-02-04 17:22:59          5319     5319           5319\n",
       "2023-02-04 17:23:00          3485     3485           3485\n",
       "\n",
       "[105 rows x 3 columns]"
      ]
     },
     "execution_count": 64,
     "metadata": {},
     "output_type": "execute_result"
    }
   ],
   "source": [
    "groupby_df = df.groupby(\"start time\").count()\n",
    "# groupby_df"
   ]
  },
  {
   "cell_type": "code",
   "execution_count": null,
   "id": "51d6c067",
   "metadata": {},
   "outputs": [],
   "source": []
  },
  {
   "cell_type": "code",
   "execution_count": 66,
   "id": "e7d59121",
   "metadata": {},
   "outputs": [
    {
     "data": {
      "image/png": "[encoded data removed]",
      "text/plain": [
       "<Figure size 640x480 with 1 Axes>"
      ]
     },
     "metadata": {},
     "output_type": "display_data"
    }
   ],
   "source": [
    "x = [_ for _ in range(len(groupby_df))]\n",
    "y = groupby_df[\"latency\"].tolist()\n",
    "\n",
    "plt.scatter(x, y)\n",
    "plt.show()"
   ]
  },
  {
   "cell_type": "code",
   "execution_count": null,
   "id": "39f9a5d7",
   "metadata": {},
   "outputs": [],
   "source": []
  },
  {
   "cell_type": "code",
   "execution_count": null,
   "id": "82d0c06b",
   "metadata": {},
   "outputs": [],
   "source": []
  }
 ],
 "metadata": {
  "kernelspec": {
   "display_name": "Python 3 (ipykernel)",
   "language": "python",
   "name": "python3"
  },
  "language_info": {
   "codemirror_mode": {
    "name": "ipython",
    "version": 3
   },
   "file_extension": ".py",
   "mimetype": "text/x-python",
   "name": "python",
   "nbconvert_exporter": "python",
   "pygments_lexer": "ipython3",
   "version": "3.9.16"
  }
 },
 "nbformat": 4,
 "nbformat_minor": 5
}
